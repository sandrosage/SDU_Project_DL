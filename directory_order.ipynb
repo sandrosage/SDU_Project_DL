{
 "cells": [
  {
   "cell_type": "code",
   "execution_count": 41,
   "metadata": {},
   "outputs": [],
   "source": [
    "import os\n",
    "import shutil\n",
    "import glob\n",
    "\n",
    "\n",
    "def train_test_val_split(size, train_split, test_split, src_dir):\n",
    "    train_dir = \"Project_Day\\\\train\" # this is a path lg sandro\n",
    "    if not os.path.exists(train_dir): # this is a test if exists Kisses Sandro\n",
    "        os.mkdir(train_dir) # makes the directory yours sincerely sandro\n",
    "    test_dir = \"Project_Day\\\\test\"\n",
    "    if not os.path.exists(test_dir):\n",
    "        os.mkdir(test_dir)\n",
    "\n",
    "    val_dir = \"Project_Day\\\\val\"\n",
    "    if not os.path.exists(val_dir):\n",
    "        os.mkdir(val_dir)\n",
    "    index = 1\n",
    "\n",
    "    for jpgfile in glob.iglob(os.path.join(src_dir, \"*.jpg\")):\n",
    "        if (index<=(size*train_split)):\n",
    "            shutil.copy(jpgfile, train_dir)\n",
    "            index+=1\n",
    "\n",
    "        elif ((size*train_split)<index<=((size*train_split)+ (size*test_split))):\n",
    "            shutil.copy(jpgfile, test_dir)\n",
    "            index+=1\n",
    "        \n",
    "        else:\n",
    "            shutil.copy(jpgfile, val_dir)\n"
   ]
  },
  {
   "cell_type": "code",
   "execution_count": 42,
   "metadata": {},
   "outputs": [],
   "source": [
    "train_test_val_split(2200, 0.8, 0.1, \"Project_Day\\\\data\")"
   ]
  },
  {
   "cell_type": "code",
   "execution_count": 1,
   "metadata": {},
   "outputs": [
    {
     "name": "stdout",
     "output_type": "stream",
     "text": [
      "220\n"
     ]
    }
   ],
   "source": [
    "index = 0\n",
    "for file in os.listdir(\"Project_Day\\\\val\"):\n",
    "    index+=1\n",
    "print(index)"
   ]
  },
  {
   "cell_type": "code",
   "execution_count": 50,
   "metadata": {},
   "outputs": [
    {
     "name": "stdout",
     "output_type": "stream",
     "text": [
      "Found 0 images belonging to 0 classes.\n",
      "Found 0 images belonging to 0 classes.\n"
     ]
    }
   ],
   "source": [
    "from keras.preprocessing.image import ImageDataGenerator\n",
    "\n",
    "train_datagen = ImageDataGenerator(\n",
    "        rescale=1./255,\n",
    "        shear_range=0.2,\n",
    "        zoom_range=0.2,\n",
    "        horizontal_flip=True)\n",
    "test_datagen = ImageDataGenerator(rescale=1./255)\n",
    "\n",
    "train_generator = train_datagen.flow_from_directory(\n",
    "        'Project_Day/train',\n",
    "        target_size=(256, 256),\n",
    "        batch_size=32,\n",
    "        class_mode='binary')\n",
    "        \n",
    "validation_generator = test_datagen.flow_from_directory(\n",
    "        'Project_Day/val',\n",
    "        target_size=(256, 256),\n",
    "        batch_size=32,\n",
    "        class_mode='binary')"
   ]
  }
 ],
 "metadata": {
  "kernelspec": {
   "display_name": "Python 3.10.6 64-bit (windows store)",
   "language": "python",
   "name": "python3"
  },
  "language_info": {
   "codemirror_mode": {
    "name": "ipython",
    "version": 3
   },
   "file_extension": ".py",
   "mimetype": "text/x-python",
   "name": "python",
   "nbconvert_exporter": "python",
   "pygments_lexer": "ipython3",
   "version": "3.10.6"
  },
  "orig_nbformat": 4,
  "vscode": {
   "interpreter": {
    "hash": "7bad70944b8c66b9ed1c9f63816863a7190a6cc704c408f906584513c21af066"
   }
  }
 },
 "nbformat": 4,
 "nbformat_minor": 2
}
